{
 "cells": [
  {
   "cell_type": "code",
   "execution_count": 1,
   "id": "5fab9c1d",
   "metadata": {},
   "outputs": [],
   "source": [
    "import pickle\n",
    "import pandas as pd\n",
    "import re\n",
    "import numpy as np\n",
    "from random import randrange\n",
    "from datetime import timedelta\n",
    "import statistics"
   ]
  },
  {
   "cell_type": "code",
   "execution_count": 2,
   "id": "ae4ddb66",
   "metadata": {},
   "outputs": [
    {
     "name": "stdout",
     "output_type": "stream",
     "text": [
      "(2701, 28)\n"
     ]
    },
    {
     "data": {
      "text/html": [
       "<div>\n",
       "<style scoped>\n",
       "    .dataframe tbody tr th:only-of-type {\n",
       "        vertical-align: middle;\n",
       "    }\n",
       "\n",
       "    .dataframe tbody tr th {\n",
       "        vertical-align: top;\n",
       "    }\n",
       "\n",
       "    .dataframe thead th {\n",
       "        text-align: right;\n",
       "    }\n",
       "</style>\n",
       "<table border=\"1\" class=\"dataframe\">\n",
       "  <thead>\n",
       "    <tr style=\"text-align: right;\">\n",
       "      <th></th>\n",
       "      <th>channel_id</th>\n",
       "      <th>message_id</th>\n",
       "      <th>city</th>\n",
       "      <th>channel_name</th>\n",
       "      <th>date</th>\n",
       "      <th>message_text</th>\n",
       "      <th>donate</th>\n",
       "      <th>views</th>\n",
       "      <th>forwards</th>\n",
       "      <th>tmp_keyword</th>\n",
       "      <th>...</th>\n",
       "      <th>оптика</th>\n",
       "      <th>запчастини</th>\n",
       "      <th>зв'язок</th>\n",
       "      <th>амуніція</th>\n",
       "      <th>медицина</th>\n",
       "      <th>броня</th>\n",
       "      <th>засоби спостереження</th>\n",
       "      <th>БПЛА</th>\n",
       "      <th>зброя</th>\n",
       "      <th>мінна безпека</th>\n",
       "    </tr>\n",
       "  </thead>\n",
       "  <tbody>\n",
       "    <tr>\n",
       "      <th>0</th>\n",
       "      <td>1149657308</td>\n",
       "      <td>92611</td>\n",
       "      <td>Kharkiv</td>\n",
       "      <td>Хуевый ✙ Харьков 🇺🇦</td>\n",
       "      <td>2022-12-18 09:00:54</td>\n",
       "      <td>🚨🚨✈️🚨🚨✈️🚨🚨\\n\\n!!!ДРУЗІ!!!\\nТриває збір для моб...</td>\n",
       "      <td>320000</td>\n",
       "      <td>146934.0</td>\n",
       "      <td>2.0</td>\n",
       "      <td>збір коштів</td>\n",
       "      <td>...</td>\n",
       "      <td>NaN</td>\n",
       "      <td>NaN</td>\n",
       "      <td>NaN</td>\n",
       "      <td>NaN</td>\n",
       "      <td>NaN</td>\n",
       "      <td>NaN</td>\n",
       "      <td>NaN</td>\n",
       "      <td>NaN</td>\n",
       "      <td>NaN</td>\n",
       "      <td>NaN</td>\n",
       "    </tr>\n",
       "    <tr>\n",
       "      <th>1</th>\n",
       "      <td>1149657308</td>\n",
       "      <td>91699</td>\n",
       "      <td>Kharkiv</td>\n",
       "      <td>Хуевый ✙ Харьков 🇺🇦</td>\n",
       "      <td>2022-12-11 14:02:13</td>\n",
       "      <td>Великий збір NATA&amp; NO PANIC FOUNDATION на 3 пі...</td>\n",
       "      <td>425000</td>\n",
       "      <td>137933.0</td>\n",
       "      <td>1.0</td>\n",
       "      <td>збір коштів</td>\n",
       "      <td>...</td>\n",
       "      <td>NaN</td>\n",
       "      <td>NaN</td>\n",
       "      <td>NaN</td>\n",
       "      <td>NaN</td>\n",
       "      <td>NaN</td>\n",
       "      <td>NaN</td>\n",
       "      <td>NaN</td>\n",
       "      <td>NaN</td>\n",
       "      <td>NaN</td>\n",
       "      <td>NaN</td>\n",
       "    </tr>\n",
       "  </tbody>\n",
       "</table>\n",
       "<p>2 rows × 28 columns</p>\n",
       "</div>"
      ],
      "text/plain": [
       "   channel_id  message_id     city         channel_name                 date  \\\n",
       "0  1149657308       92611  Kharkiv  Хуевый ✙ Харьков 🇺🇦  2022-12-18 09:00:54   \n",
       "1  1149657308       91699  Kharkiv  Хуевый ✙ Харьков 🇺🇦  2022-12-11 14:02:13   \n",
       "\n",
       "                                        message_text  donate     views  \\\n",
       "0  🚨🚨✈️🚨🚨✈️🚨🚨\\n\\n!!!ДРУЗІ!!!\\nТриває збір для моб...  320000  146934.0   \n",
       "1  Великий збір NATA& NO PANIC FOUNDATION на 3 пі...  425000  137933.0   \n",
       "\n",
       "   forwards  tmp_keyword  ... оптика  запчастини  зв'язок  амуніція  медицина  \\\n",
       "0       2.0  збір коштів  ...    NaN         NaN      NaN       NaN       NaN   \n",
       "1       1.0  збір коштів  ...    NaN         NaN      NaN       NaN       NaN   \n",
       "\n",
       "   броня  засоби спостереження  БПЛА  зброя  мінна безпека  \n",
       "0    NaN                   NaN   NaN    NaN            NaN  \n",
       "1    NaN                   NaN   NaN    NaN            NaN  \n",
       "\n",
       "[2 rows x 28 columns]"
      ]
     },
     "execution_count": 2,
     "metadata": {},
     "output_type": "execute_result"
    }
   ],
   "source": [
    "donates_all = pd.read_csv('donates_all_22_12_22.csv')\n",
    "print(donates_all.shape)\n",
    "donates_all.head(2)"
   ]
  },
  {
   "cell_type": "code",
   "execution_count": 4,
   "id": "8ae9353c",
   "metadata": {},
   "outputs": [
    {
     "data": {
      "text/plain": [
       "['Kharkiv',\n",
       " 'Lviv',\n",
       " 'Poltava',\n",
       " 'Dnipropetrovsk',\n",
       " 'Sumy',\n",
       " 'Zaporizhzhia',\n",
       " 'Kherson',\n",
       " 'Mykolaiv',\n",
       " 'Kyiv',\n",
       " 'Ukraine']"
      ]
     },
     "execution_count": 4,
     "metadata": {},
     "output_type": "execute_result"
    }
   ],
   "source": [
    "list(pd.unique(donates_all['city']))"
   ]
  },
  {
   "cell_type": "markdown",
   "id": "4ec6545c",
   "metadata": {},
   "source": [
    "### Remove duplicates by 'message_text' column"
   ]
  },
  {
   "cell_type": "code",
   "execution_count": 5,
   "id": "09b7c09e",
   "metadata": {},
   "outputs": [
    {
     "name": "stdout",
     "output_type": "stream",
     "text": [
      "(2701, 28)\n"
     ]
    }
   ],
   "source": [
    "donates_all.drop_duplicates(subset = \"message_text\", keep = False, inplace = True) # (2701, 28)\n",
    "print(donates_all.shape)"
   ]
  },
  {
   "cell_type": "markdown",
   "id": "0bbaeb99",
   "metadata": {},
   "source": [
    "### Remove outliers"
   ]
  },
  {
   "cell_type": "code",
   "execution_count": 6,
   "id": "e286a380",
   "metadata": {},
   "outputs": [
    {
     "name": "stdout",
     "output_type": "stream",
     "text": [
      "[1425000000, 770007000, 723000000, 500000000, 488564664, 310000000, 206000000, 200000000, 150000000, 135000000, 120000000, 100000000, 80000000, 70000000, 67676767, 67600000, 60000000, 54000000, 50000122, 50000000]\n"
     ]
    }
   ],
   "source": [
    "donates = list(set(donates_all['donate'].tolist()))\n",
    "donates.sort(reverse=True)\n",
    "print(donates[0:20])"
   ]
  },
  {
   "cell_type": "markdown",
   "id": "c056dd9b",
   "metadata": {},
   "source": [
    "All outliers were checked manually "
   ]
  },
  {
   "cell_type": "code",
   "execution_count": 7,
   "id": "02054245",
   "metadata": {},
   "outputs": [
    {
     "name": "stdout",
     "output_type": "stream",
     "text": [
      "(2687, 29)\n"
     ]
    }
   ],
   "source": [
    "# the cleaned dataset\n",
    "donates_all_clean = pd.read_csv('Number of volunteers by region - All_28_12_22.csv')\n",
    "print(donates_all_clean.shape)"
   ]
  },
  {
   "cell_type": "code",
   "execution_count": 8,
   "id": "02f198c0",
   "metadata": {},
   "outputs": [
    {
     "name": "stdout",
     "output_type": "stream",
     "text": [
      "[2400000000, 2000000000, 206000000, 200000000, 150000000, 135000000, 120000000, 100000000, 80000000, 70000000, 54739500, 54000000, 50000000, 44865632, 43319371, 43000000, 35155000, 30000000, 29011993, 26081998]\n"
     ]
    }
   ],
   "source": [
    "donates = list(set(donates_all_clean['donate'].tolist()))\n",
    "donates.sort(reverse=True)\n",
    "print(donates[0:20])"
   ]
  },
  {
   "cell_type": "code",
   "execution_count": 9,
   "id": "767c3693",
   "metadata": {},
   "outputs": [
    {
     "name": "stdout",
     "output_type": "stream",
     "text": [
      "['channel_id', 'message_id', 'city', 'channel_name', 'date', 'message_text', 'donate', 'views', 'forwards', 'tmp_keyword', 'tmp_possible_donates', 'ремонт', 'квадрокоптери', 'генератори і акумулятори', 'авто', \"комп'ютерна та відео техніка\", 'тепловізори, снайпінг, ПНБ', 'гуманітарна допомога', 'оптика', 'запчастини', \"зв'язок\", 'амуніція', 'медицина', 'броня', 'засоби спостереження', 'БПЛА', 'зброя', 'мінна безпека', 'загальні витрати']\n"
     ]
    }
   ],
   "source": [
    "print(list(donates_all_clean.columns))"
   ]
  },
  {
   "cell_type": "code",
   "execution_count": 10,
   "id": "207cf0b3",
   "metadata": {},
   "outputs": [],
   "source": [
    "donates_all_clean['DateTime']= pd.to_datetime(donates_all_clean['date'])"
   ]
  },
  {
   "cell_type": "markdown",
   "id": "378d210a",
   "metadata": {},
   "source": [
    "### General expenses include all rows where there is no price or products"
   ]
  },
  {
   "cell_type": "code",
   "execution_count": 11,
   "id": "a37f62d2",
   "metadata": {},
   "outputs": [
    {
     "name": "stdout",
     "output_type": "stream",
     "text": [
      "358\n"
     ]
    }
   ],
   "source": [
    "# fill 'загальні витрати' column\n",
    "\n",
    "column_id = donates_all_clean.columns.get_loc('загальні витрати')\n",
    "\n",
    "num_lost_jeneral_expances = 0\n",
    "for i in range(len(donates_all_clean)):\n",
    "    donate = donates_all_clean.iloc[i]['donate']\n",
    "    products_list = donates_all_clean.iloc[i][['ремонт', 'квадрокоптери', 'генератори і акумулятори', \n",
    "                               'авто', \"комп'ютерна та відео техніка\", 'тепловізори, снайпінг, ПНБ', \n",
    "                               'гуманітарна допомога', 'оптика', 'запчастини', \"зв'язок\", 'амуніція', 'медицина', \n",
    "                               'броня', 'засоби спостереження', 'БПЛА', 'зброя', 'мінна безпека', \n",
    "                                'загальні витрати']].tolist()[::]\n",
    "    products_list = [el for el in products_list if ~np.isnan(el)]\n",
    "    if (np.isnan(donate) | donate <= 0) & (sum(products_list) == 0):\n",
    "        donates_all_clean.iat[i,column_id] = 1\n",
    "        num_lost_jeneral_expances += 1\n",
    "        \n",
    "print(num_lost_jeneral_expances)"
   ]
  },
  {
   "cell_type": "code",
   "execution_count": 12,
   "id": "c90279fb",
   "metadata": {},
   "outputs": [],
   "source": [
    "donates_all_clean['БПЛА'].fillna(0, inplace=True)\n",
    "donates_all_clean['квадрокоптери'].fillna(0, inplace=True)\n",
    "\n",
    "donates_all_clean['БПЛА'] = donates_all_clean['БПЛА'] + donates_all_clean['квадрокоптери']\n",
    "donates_all_clean.drop(columns=['квадрокоптери'], inplace=True)"
   ]
  },
  {
   "cell_type": "code",
   "execution_count": 13,
   "id": "4d0704cc",
   "metadata": {},
   "outputs": [],
   "source": [
    "# convert Hrivna to US dollars\n",
    "donates_all_clean['donate'] = donates_all_clean['donate'].apply(lambda x: x/40)"
   ]
  },
  {
   "cell_type": "markdown",
   "id": "f6766bae",
   "metadata": {},
   "source": [
    "### Select posts before '2022-11-01'"
   ]
  },
  {
   "cell_type": "code",
   "execution_count": 14,
   "id": "1a2d4b1f",
   "metadata": {},
   "outputs": [
    {
     "name": "stdout",
     "output_type": "stream",
     "text": [
      "(1946, 29)\n"
     ]
    }
   ],
   "source": [
    "donates_all_end = donates_all_clean[donates_all_clean['DateTime'] < '2022-11-01'].copy()\n",
    "print(donates_all_end.shape)"
   ]
  },
  {
   "cell_type": "code",
   "execution_count": 15,
   "id": "5b51fff1",
   "metadata": {},
   "outputs": [
    {
     "name": "stdout",
     "output_type": "stream",
     "text": [
      "(741, 29)\n"
     ]
    }
   ],
   "source": [
    "donates_all_after = donates_all_clean[donates_all_clean['DateTime'] >= '2022-11-01'].copy()\n",
    "print(donates_all_after.shape)"
   ]
  },
  {
   "cell_type": "code",
   "execution_count": 16,
   "id": "d2f6dea8",
   "metadata": {},
   "outputs": [],
   "source": [
    "def random_date(start, end):\n",
    "    \"\"\"\n",
    "    This function will return a random datetime between two datetime \n",
    "    objects.\n",
    "    \"\"\"\n",
    "    delta = pd.to_datetime(end) - pd.to_datetime(start)\n",
    "    int_delta = (delta.days * 24 * 60 * 60) + delta.seconds\n",
    "    random_second = randrange(int_delta)\n",
    "    return pd.to_datetime(start) + timedelta(seconds=random_second)"
   ]
  },
  {
   "cell_type": "markdown",
   "id": "6849345b",
   "metadata": {},
   "source": [
    "For posts after '2022-11-01' select random dates between '2022-02-24' and '2022-11-01'"
   ]
  },
  {
   "cell_type": "code",
   "execution_count": 17,
   "id": "d4660bf6",
   "metadata": {},
   "outputs": [],
   "source": [
    "donates_all_after['DateTime'] = donates_all_after['DateTime'].apply(lambda x: random_date('2022-02-24 06:00:00', '2022-11-01 00:00:00'))\n",
    "donates_all_after['date'] = donates_all_after['DateTime'].dt.strftime('%Y-%m-%d %H:%M:%S')\n"
   ]
  },
  {
   "cell_type": "markdown",
   "id": "c4abe5c0",
   "metadata": {},
   "source": [
    "### Calculate multipliers to remove script error"
   ]
  },
  {
   "cell_type": "markdown",
   "id": "1577c983",
   "metadata": {},
   "source": [
    "For 'Хуевый ✙ Харьков 🇺🇦' channel I manually collected Gold Dataset\n",
    "Follow this link to find it \n",
    "\n",
    "https://docs.google.com/spreadsheets/d/1iPPVGVdd1Q1MzyD9LFWMbtzgkBUblvW2QtPzefZ3KI8/edit?usp=sharing"
   ]
  },
  {
   "cell_type": "code",
   "execution_count": 44,
   "id": "4d7ceee0",
   "metadata": {},
   "outputs": [
    {
     "data": {
      "text/plain": [
       "(121, 31)"
      ]
     },
     "execution_count": 44,
     "metadata": {},
     "output_type": "execute_result"
    }
   ],
   "source": [
    "donates_all_end[donates_all_end['channel_name'] == 'Хуевый ✙ Харьков 🇺🇦'].shape"
   ]
  },
  {
   "cell_type": "code",
   "execution_count": 19,
   "id": "16a3b4f4",
   "metadata": {},
   "outputs": [
    {
     "data": {
      "text/plain": [
       "1.3826530612244898"
      ]
     },
     "execution_count": 19,
     "metadata": {},
     "output_type": "execute_result"
    }
   ],
   "source": [
    "gold_number_posts = 196\n",
    "recall = 121/gold_number_posts\n",
    "recall_multiplier = 1-recall+1\n",
    "recall_multiplier"
   ]
  },
  {
   "cell_type": "markdown",
   "id": "6e8201e1",
   "metadata": {},
   "source": [
    "The script loses about 38% of messages."
   ]
  },
  {
   "cell_type": "code",
   "execution_count": 20,
   "id": "e3c1f9a7",
   "metadata": {},
   "outputs": [
    {
     "data": {
      "text/plain": [
       "2449878.55"
      ]
     },
     "execution_count": 20,
     "metadata": {},
     "output_type": "execute_result"
    }
   ],
   "source": [
    "# donates in the USA $\n",
    "donates_all_end[donates_all_end['channel_name'] == 'Хуевый ✙ Харьков 🇺🇦']['donate'].sum() "
   ]
  },
  {
   "cell_type": "code",
   "execution_count": 21,
   "id": "c57cf4c2",
   "metadata": {},
   "outputs": [
    {
     "data": {
      "text/plain": [
       "1.3333329568972268"
      ]
     },
     "execution_count": 21,
     "metadata": {},
     "output_type": "execute_result"
    }
   ],
   "source": [
    "gold_sum_of_donates = 3674815.75\n",
    "money_multiplier = (gold_sum_of_donates - 2449878.55)/gold_sum_of_donates + 1\n",
    "money_multiplier"
   ]
  },
  {
   "cell_type": "code",
   "execution_count": 22,
   "id": "55f65d8b",
   "metadata": {},
   "outputs": [
    {
     "data": {
      "text/plain": [
       "ремонт                             7.0\n",
       "генератори і акумулятори          90.0\n",
       "авто                              57.0\n",
       "комп'ютерна та відео техніка      11.0\n",
       "тепловізори, снайпінг, ПНБ       106.0\n",
       "гуманітарна допомога              16.0\n",
       "оптика                            13.0\n",
       "запчастини                         4.0\n",
       "зв'язок                          117.0\n",
       "амуніція                         835.0\n",
       "медицина                         363.0\n",
       "броня                            211.0\n",
       "засоби спостереження               3.0\n",
       "БПЛА                            1123.0\n",
       "зброя                              4.0\n",
       "мінна безпека                      2.0\n",
       "загальні витрати                   8.0\n",
       "dtype: float64"
      ]
     },
     "execution_count": 22,
     "metadata": {},
     "output_type": "execute_result"
    }
   ],
   "source": [
    "products_series = donates_all_end[donates_all_end['channel_name'] == 'Хуевый ✙ Харьков 🇺🇦'][['ремонт', 'генератори і акумулятори', \n",
    "                               'авто', \"комп'ютерна та відео техніка\", 'тепловізори, снайпінг, ПНБ', \n",
    "                               'гуманітарна допомога', 'оптика', 'запчастини', \"зв'язок\", 'амуніція', 'медицина', \n",
    "                               'броня', 'засоби спостереження', 'БПЛА', 'зброя', 'мінна безпека', \n",
    "                                'загальні витрати']].sum(axis=0)\n",
    "products_series"
   ]
  },
  {
   "cell_type": "code",
   "execution_count": 23,
   "id": "c3c104ea",
   "metadata": {},
   "outputs": [
    {
     "name": "stdout",
     "output_type": "stream",
     "text": [
      "repair_multiplier = 6.0\n",
      "auto_multiplier = 2.719298245614035\n",
      "thermal_imagers_multiplier = 3.30188679245283\n",
      "humanitarian_multiplier = 2.3125\n",
      "communication_multiplier = 1.205128205128205\n",
      "ammunition_multiplier = 2.776047904191617\n",
      "medicine_multiplier = 1.399449035812672\n",
      "armor_multiplier = 3.4881516587677726\n",
      "weapons_multiplier = 1.75\n",
      "mine_safety_multiplier = 42.5\n"
     ]
    }
   ],
   "source": [
    "gold_repair = 42\n",
    "repair_multiplier = abs(products_series.loc['ремонт'] - gold_repair)/products_series.loc['ремонт'] + 1\n",
    "print('repair_multiplier =', repair_multiplier)\n",
    "\n",
    "gold_auto = 155\n",
    "auto_multiplier = abs(products_series.loc['авто'] - gold_auto)/products_series.loc['авто'] + 1\n",
    "print('auto_multiplier =', auto_multiplier)\n",
    "\n",
    "gold_thermal_imagers = 350 \n",
    "thermal_imagers_multiplier = abs(products_series.loc['тепловізори, снайпінг, ПНБ'] - gold_thermal_imagers)/products_series.loc['тепловізори, снайпінг, ПНБ'] + 1\n",
    "print('thermal_imagers_multiplier =', thermal_imagers_multiplier)\n",
    "\n",
    "gold_humanitarian = 37\n",
    "humanitarian_multiplier = abs(products_series.loc['гуманітарна допомога'] - gold_humanitarian)/products_series.loc['гуманітарна допомога'] + 1\n",
    "print('humanitarian_multiplier =', humanitarian_multiplier)\n",
    "\n",
    "gold_communication = 141\n",
    "communication_multiplier = abs(products_series.loc[\"зв'язок\"] - gold_communication)/products_series.loc[\"зв'язок\"] + 1\n",
    "print('communication_multiplier =', communication_multiplier)\n",
    "\n",
    "gold_ammunition = 2318\n",
    "ammunition_multiplier = abs(products_series.loc['амуніція'] - gold_ammunition)/products_series.loc['амуніція'] + 1\n",
    "print('ammunition_multiplier =', ammunition_multiplier)\n",
    "\n",
    "gold_medicine = 508\n",
    "medicine_multiplier = abs(products_series.loc['медицина'] - gold_medicine)/products_series.loc['медицина'] + 1\n",
    "print('medicine_multiplier =', medicine_multiplier)\n",
    "\n",
    "gold_armor = 736\n",
    "armor_multiplier = abs(products_series.loc['броня'] - gold_armor)/products_series.loc['броня'] + 1\n",
    "print('armor_multiplier =', armor_multiplier)\n",
    "\n",
    "gold_weapons = 7\n",
    "weapons_multiplier = abs(products_series.loc['зброя'] - gold_weapons)/products_series.loc['зброя'] + 1\n",
    "print('weapons_multiplier =', weapons_multiplier)\n",
    "\n",
    "gold_mine_safety = 85\n",
    "mine_safety_multiplier = abs(products_series.loc['мінна безпека'] - gold_mine_safety)/products_series.loc['мінна безпека'] + 1\n",
    "print('mine_safety_multiplier =', mine_safety_multiplier)\n"
   ]
  },
  {
   "cell_type": "markdown",
   "id": "0a7e4ec9",
   "metadata": {},
   "source": [
    "! no multiplier for БПЛА, генератори і акумулятори, оптика"
   ]
  },
  {
   "cell_type": "markdown",
   "id": "358082a1",
   "metadata": {},
   "source": [
    "### Apply multipliers to remove script error"
   ]
  },
  {
   "cell_type": "code",
   "execution_count": 24,
   "id": "70467d0a",
   "metadata": {},
   "outputs": [],
   "source": [
    "# Apply multiplier for money\n",
    "donates_all_end['donate'] = donates_all_end['donate'].apply(lambda x: x * money_multiplier if x != 'Ukraine' else x)\n",
    "donates_all_end['donate'] = donates_all_end['donate'].apply(lambda x: x * money_multiplier if x != 'Ukraine' else x)\n",
    "\n",
    "# Apply multiplier for repair\n",
    "donates_all_end['ремонт'] = donates_all_end['ремонт'] * repair_multiplier\n",
    "donates_all_after['ремонт'] = donates_all_after['ремонт'] * repair_multiplier\n",
    "\n",
    "# Apply multiplier for auto\n",
    "donates_all_end['авто'] = donates_all_end['авто'] * auto_multiplier\n",
    "donates_all_after['авто'] = donates_all_after['авто'] * auto_multiplier\n",
    "\n",
    "# Apply multiplier for thermal_imagers\n",
    "donates_all_end['тепловізори, снайпінг, ПНБ'] = donates_all_end['тепловізори, снайпінг, ПНБ'] * thermal_imagers_multiplier\n",
    "donates_all_after['тепловізори, снайпінг, ПНБ'] = donates_all_after['тепловізори, снайпінг, ПНБ'] * thermal_imagers_multiplier\n",
    "\n",
    "# Apply multiplier for humanitarian\n",
    "donates_all_end['гуманітарна допомога'] = donates_all_end['гуманітарна допомога'] * humanitarian_multiplier\n",
    "donates_all_after['гуманітарна допомога'] = donates_all_after['гуманітарна допомога'] * humanitarian_multiplier\n",
    "\n",
    "# Apply multiplier for communication\n",
    "donates_all_end[\"зв'язок\"] = donates_all_end[\"зв'язок\"] * communication_multiplier\n",
    "donates_all_after[\"зв'язок\"] = donates_all_after[\"зв'язок\"] * communication_multiplier\n",
    "\n",
    "# Apply multiplier for ammunition\n",
    "donates_all_end['амуніція'] = donates_all_end['амуніція'] * ammunition_multiplier\n",
    "donates_all_after['амуніція'] = donates_all_after['амуніція'] * ammunition_multiplier\n",
    "\n",
    "# Apply multiplier for medicine\n",
    "donates_all_end['медицина'] = donates_all_end['медицина'] * medicine_multiplier\n",
    "donates_all_after['медицина'] = donates_all_after['медицина'] * medicine_multiplier\n",
    "\n",
    "# Apply multiplier for armor\n",
    "donates_all_end['броня'] = donates_all_end['броня'] * armor_multiplier\n",
    "donates_all_after['броня'] = donates_all_after['броня'] * armor_multiplier\n",
    "\n",
    "# Apply multiplier for weapons\n",
    "donates_all_end['зброя'] = donates_all_end['зброя'] * weapons_multiplier\n",
    "donates_all_after['зброя'] = donates_all_after['зброя'] * weapons_multiplier\n",
    "\n",
    "# Apply multiplier for mine_safety\n",
    "donates_all_end['мінна безпека'] = donates_all_end['мінна безпека'] * mine_safety_multiplier\n",
    "donates_all_after['мінна безпека'] = donates_all_after['мінна безпека'] * mine_safety_multiplier"
   ]
  },
  {
   "cell_type": "markdown",
   "id": "fa89f28c",
   "metadata": {},
   "source": [
    "### Apply the quantity multiplier to calculate the correct price by products "
   ]
  },
  {
   "cell_type": "code",
   "execution_count": 25,
   "id": "cd3d8ea0",
   "metadata": {},
   "outputs": [],
   "source": [
    "def quantity_multiplier(value, threshold, multiplier):\n",
    "    if np.isnan(value):\n",
    "        return value\n",
    "    else:\n",
    "        if value <= threshold:\n",
    "            return value\n",
    "        else:\n",
    "            return value*multiplier"
   ]
  },
  {
   "cell_type": "code",
   "execution_count": 26,
   "id": "cc8029a0",
   "metadata": {},
   "outputs": [],
   "source": [
    "# computer and video equipment | if value <5 multiply by 10\n",
    "donates_all_end[\"комп'ютерна та відео техніка\"] = donates_all_end[\"комп'ютерна та відео техніка\"].apply(lambda x: quantity_multiplier(x, 5, 10))\n",
    "donates_all_after[\"комп'ютерна та відео техніка\"] = donates_all_after[\"комп'ютерна та відео техніка\"].apply(lambda x: quantity_multiplier(x, 5, 10))\n",
    "\n",
    "# thermal_imagers | if value <7 multiply by 5\n",
    "donates_all_end['тепловізори, снайпінг, ПНБ'] = donates_all_end['тепловізори, снайпінг, ПНБ'].apply(lambda x: quantity_multiplier(x, 7, 5))\n",
    "donates_all_after['тепловізори, снайпінг, ПНБ'] = donates_all_after['тепловізори, снайпінг, ПНБ'].apply(lambda x: quantity_multiplier(x, 7, 5))\n",
    "\n",
    "# optics | if value <5 multiply by 3\n",
    "donates_all_end['оптика'] = donates_all_end['оптика'].apply(lambda x: quantity_multiplier(x, 5, 3))\n",
    "donates_all_after['оптика'] = donates_all_after['оптика'].apply(lambda x: quantity_multiplier(x, 5, 3))\n",
    "\n",
    "# communication | if value <5 multiply by 10\n",
    "donates_all_end[\"зв'язок\"] = donates_all_end[\"зв'язок\"].apply(lambda x: quantity_multiplier(x, 5, 10))\n",
    "donates_all_after[\"зв'язок\"] = donates_all_after[\"зв'язок\"].apply(lambda x: quantity_multiplier(x, 5, 10))\n",
    "\n",
    "# ammunition | if value <10 multiply by  25\n",
    "donates_all_end[\"амуніція\"] = donates_all_end[\"амуніція\"].apply(lambda x: quantity_multiplier(x, 10, 25))\n",
    "donates_all_after[\"амуніція\"] = donates_all_after[\"амуніція\"].apply(lambda x: quantity_multiplier(x, 10, 25))\n",
    "\n",
    "# medicine | if value <10 multiply by  30\n",
    "donates_all_end[\"медицина\"] = donates_all_end[\"медицина\"].apply(lambda x: quantity_multiplier(x, 10, 30))\n",
    "donates_all_after[\"медицина\"] = donates_all_after[\"медицина\"].apply(lambda x: quantity_multiplier(x, 10, 30))\n",
    "\n",
    "# armor | if value <10 multiply by  15\n",
    "donates_all_end[\"броня\"] = donates_all_end[\"броня\"].apply(lambda x: quantity_multiplier(x, 10, 15))\n",
    "donates_all_after[\"броня\"] = donates_all_after[\"броня\"].apply(lambda x: quantity_multiplier(x, 10, 15))\n",
    "\n",
    "# mine_safety | if value < 25 multiply by  15\n",
    "donates_all_end[\"мінна безпека\"] = donates_all_end[\"мінна безпека\"].apply(lambda x: quantity_multiplier(x, 25, 15))\n",
    "donates_all_after[\"мінна безпека\"] = donates_all_after[\"мінна безпека\"].apply(lambda x: quantity_multiplier(x, 25, 15))"
   ]
  },
  {
   "cell_type": "markdown",
   "id": "76f82543",
   "metadata": {},
   "source": [
    "### Calculate the approximate cost of products in dollars"
   ]
  },
  {
   "cell_type": "code",
   "execution_count": 27,
   "id": "f44fba1e",
   "metadata": {},
   "outputs": [],
   "source": [
    "donates_all_end['products_cost'] = 0\n",
    "donates_all_after['products_cost'] = 0\n",
    "\n",
    "# money equivalent of 1 item, $\n",
    "prices_dict = {'ремонт':60, 'генератори і акумулятори': 300, 'авто':5000, \"комп'ютерна та відео техніка\":125,\n",
    "              'тепловізори, снайпінг, ПНБ': 2000, 'гуманітарна допомога': 1000, 'оптика':450, 'запчастини':50,\n",
    "              \"зв'язок\":750, 'амуніція':60, 'медицина':75, 'броня':350, 'засоби спостереження':1000, 'БПЛА':2825,\n",
    "              'зброя':10000, 'мінна безпека':500, 'загальні витрати':2000}\n",
    "\n",
    "col_names = ['ремонт', 'генератори і акумулятори', 'авто', \"комп'ютерна та відео техніка\", 'тепловізори, снайпінг, ПНБ', \n",
    "             'гуманітарна допомога', 'оптика', 'запчастини', \"зв'язок\", 'амуніція', 'медицина', 'броня', 'засоби спостереження', \n",
    "             'БПЛА', 'зброя', 'мінна безпека', 'загальні витрати']\n",
    "\n",
    "column_id = donates_all_end.columns.get_loc('products_cost')\n",
    "for i in range(len(donates_all_end)):\n",
    "    products_cost = 0\n",
    "    for col in col_names:\n",
    "        price = prices_dict[col]\n",
    "        amount = donates_all_clean.iloc[i][col]\n",
    "        if ~np.isnan(amount):\n",
    "            products_cost += price*amount\n",
    "    donates_all_end.iat[i,column_id] = products_cost\n",
    "    \n",
    "column_id = donates_all_after.columns.get_loc('products_cost')\n",
    "for i in range(len(donates_all_after)):\n",
    "    products_cost = 0\n",
    "    for col in col_names:\n",
    "        price = prices_dict[col]\n",
    "        amount = donates_all_after.iloc[i][col]\n",
    "        if ~np.isnan(amount):\n",
    "            products_cost += price*amount\n",
    "    donates_all_after.iat[i,column_id] = products_cost"
   ]
  },
  {
   "cell_type": "markdown",
   "id": "9bb35da0",
   "metadata": {},
   "source": [
    "##### Calcilate final donate = 25% donate + 75% products_cost "
   ]
  },
  {
   "cell_type": "code",
   "execution_count": 42,
   "id": "f4adbc3d",
   "metadata": {},
   "outputs": [],
   "source": [
    "donates_all_end['donate'].fillna(0, inplace=True)\n",
    "donates_all_after['donate'].fillna(0, inplace=True)\n",
    "donates_all_end['final_donate'] = 0\n",
    "donates_all_after['final_donate'] = 0\n",
    "\n",
    "column_id = donates_all_end.columns.get_loc('final_donate')\n",
    "for i in range(len(donates_all_end)):\n",
    "    donate = donates_all_end.iloc[i]['donate']\n",
    "    products_cost = donates_all_end.iloc[i]['products_cost']\n",
    "    if (donate>0) & (products_cost > 0):\n",
    "        donates_all_end.iat[i,column_id] = donate*0.25 + products_cost*0.75\n",
    "    elif (donate==0) & (products_cost > 0):\n",
    "        donates_all_end.iat[i,column_id] = products_cost\n",
    "    elif (donate>0) & (products_cost == 0):\n",
    "        donates_all_end.iat[i,column_id] = donate\n",
    "        \n",
    "column_id = donates_all_after.columns.get_loc('final_donate')\n",
    "for i in range(len(donates_all_after)):\n",
    "    donate = donates_all_after.iloc[i]['donate']\n",
    "    products_cost = donates_all_after.iloc[i]['products_cost']\n",
    "    if (donate>0) & (products_cost > 0):\n",
    "        donates_all_after.iat[i,column_id] = donate*0.25 + products_cost*0.75\n",
    "    elif (donate==0) & (products_cost > 0):\n",
    "        donates_all_after.iat[i,column_id] = products_cost\n",
    "    elif (donate>0) & (products_cost == 0):\n",
    "        donates_all_after.iat[i,column_id] = donate"
   ]
  },
  {
   "cell_type": "markdown",
   "id": "4fe5c590",
   "metadata": {},
   "source": [
    "### Randomly select 38% of the messages and add them to the data set for each existing regions"
   ]
  },
  {
   "cell_type": "code",
   "execution_count": 43,
   "id": "4fcb20ad",
   "metadata": {},
   "outputs": [
    {
     "data": {
      "text/plain": [
       "city\n",
       "Dnipropetrovsk    148\n",
       "Kharkiv           192\n",
       "Kherson            16\n",
       "Kyiv              294\n",
       "Lviv              327\n",
       "Mykolaiv          106\n",
       "Poltava           110\n",
       "Sumy              101\n",
       "Ukraine           601\n",
       "Zaporizhzhia       51\n",
       "Name: city, dtype: int64"
      ]
     },
     "execution_count": 43,
     "metadata": {},
     "output_type": "execute_result"
    }
   ],
   "source": [
    "# number of messages from '2022-02-24' to '2022-11-01'\n",
    "donates_all_end.groupby(['city'])['city'].count()"
   ]
  },
  {
   "cell_type": "code",
   "execution_count": 48,
   "id": "26e5682e",
   "metadata": {},
   "outputs": [
    {
     "name": "stdout",
     "output_type": "stream",
     "text": [
      "num_Dnipro =  56\n",
      "num_Kyiv =  112\n",
      "num_Kharkiv =  73\n",
      "num_Lviv =  124\n",
      "num_Mykolaiv =  40\n",
      "num_Poltava =  42\n",
      "num_Sumy =  38\n",
      "num_Zaporizhzhia =  19\n",
      "num_Ukraine =  228\n"
     ]
    }
   ],
   "source": [
    "# Dnipro\n",
    "num_Dnipro = donates_all_end.groupby(['city'])['city'].count().loc['Dnipropetrovsk']\n",
    "num_Dnipro = int(round(num_Dnipro*0.38, 0))\n",
    "print(\"num_Dnipro = \", num_Dnipro)\n",
    "\n",
    "# Kyiv + Kyiv oblast\n",
    "num_Kyiv = donates_all_end.groupby(['city'])['city'].count().loc['Kyiv']\n",
    "num_Kyiv = int(round(num_Kyiv*0.38, 0))\n",
    "print(\"num_Kyiv = \", num_Kyiv)\n",
    "\n",
    "# Kharkiv\n",
    "num_Kharkiv = donates_all_end.groupby(['city'])['city'].count().loc['Kharkiv']\n",
    "num_Kharkiv = int(round(num_Kharkiv*0.38, 0))\n",
    "print(\"num_Kharkiv = \", num_Kharkiv)\n",
    "\n",
    "# Lviv\n",
    "num_Lviv = donates_all_end.groupby(['city'])['city'].count().loc['Lviv']\n",
    "num_Lviv = int(round(num_Lviv*0.38, 0))\n",
    "print(\"num_Lviv = \", num_Lviv)\n",
    "\n",
    "# Mykolaiv\n",
    "num_Mykolaiv = donates_all_end.groupby(['city'])['city'].count().loc['Mykolaiv']\n",
    "num_Mykolaiv = int(round(num_Mykolaiv*0.38, 0))\n",
    "print(\"num_Mykolaiv = \", num_Mykolaiv)\n",
    "\n",
    "# Poltava\n",
    "num_Poltava = donates_all_end.groupby(['city'])['city'].count().loc['Poltava']\n",
    "num_Poltava = int(round(num_Poltava*0.38, 0))\n",
    "print(\"num_Poltava = \", num_Poltava)\n",
    "\n",
    "# Sumy\n",
    "num_Sumy = donates_all_end.groupby(['city'])['city'].count().loc['Sumy']\n",
    "num_Sumy = int(round(num_Sumy*0.38, 0))\n",
    "print(\"num_Sumy = \", num_Sumy)\n",
    "\n",
    "# Zaporizhzhia\n",
    "num_Zaporizhzhia = donates_all_end.groupby(['city'])['city'].count().loc['Zaporizhzhia']\n",
    "num_Zaporizhzhia = int(round(num_Zaporizhzhia*0.38, 0))\n",
    "print(\"num_Zaporizhzhia = \", num_Zaporizhzhia)\n",
    "\n",
    "# Ukraine\n",
    "num_Ukraine = donates_all_end.groupby(['city'])['city'].count().loc['Ukraine']\n",
    "num_Ukraine = int(round(num_Ukraine*0.38, 0))\n",
    "print(\"num_Ukraine = \", num_Ukraine)"
   ]
  },
  {
   "cell_type": "markdown",
   "id": "8f7e00a9",
   "metadata": {},
   "source": [
    "We can add posts after 01/11/2022 "
   ]
  },
  {
   "cell_type": "code",
   "execution_count": 49,
   "id": "2dc8150a",
   "metadata": {},
   "outputs": [
    {
     "data": {
      "text/plain": [
       "city\n",
       "Dnipropetrovsk      8\n",
       "Kharkiv           101\n",
       "Kherson            11\n",
       "Kyiv               58\n",
       "Lviv              130\n",
       "Mykolaiv           22\n",
       "Poltava            33\n",
       "Sumy                9\n",
       "Ukraine           360\n",
       "Zaporizhzhia        9\n",
       "Name: city, dtype: int64"
      ]
     },
     "execution_count": 49,
     "metadata": {},
     "output_type": "execute_result"
    }
   ],
   "source": [
    "# number of messages after '2022-11-01'\n",
    "donates_all_after.groupby(['city'])['city'].count()"
   ]
  },
  {
   "cell_type": "code",
   "execution_count": 50,
   "id": "24817039",
   "metadata": {},
   "outputs": [
    {
     "name": "stdout",
     "output_type": "stream",
     "text": [
      "Dnipro True\n",
      "Kharkiv True\n",
      "Kyiv + Kyiv oblast True\n",
      "Lviv True\n",
      "Mykolaiv True\n",
      "Poltava True\n",
      "Sumy True\n",
      "Zaporizhzhia True\n",
      "Ukraine True\n"
     ]
    }
   ],
   "source": [
    "# Dnipro have 8 need 56\n",
    "dnipro_after_df = donates_all_after[donates_all_after['city']=='Dnipropetrovsk'].copy() # 8\n",
    "dnipro_addon_df = donates_all_end[donates_all_end['city'] != 'Ukraine'].sample(n=num_Dnipro-8, random_state=1).copy() \n",
    "dnipro_df =  pd.concat([dnipro_after_df, dnipro_addon_df])\n",
    "dnipro_df = dnipro_df.reset_index(drop=True)\n",
    "print('Dnipro', dnipro_df.shape[0] == num_Dnipro)\n",
    "\n",
    "# Kharkiv have 101 need 73\n",
    "kharkiv_df = donates_all_after[donates_all_after['city']=='Kharkiv'].sample(n=num_Kharkiv, random_state=1).copy() # 73\n",
    "kharkiv_df = kharkiv_df.reset_index(drop=True)\n",
    "print('Kharkiv', kharkiv_df.shape[0] == num_Kharkiv)\n",
    "\n",
    "# Kyiv + Kyiv oblast have 58 need 112\n",
    "kyiv_after_df = donates_all_after[donates_all_after['city']=='Kyiv'].copy() # 58\n",
    "kyiv_addon_df = donates_all_end[donates_all_end['city'] != 'Ukraine'].sample(n=num_Kyiv-58, random_state=1).copy() \n",
    "kyiv_df =  pd.concat([kyiv_after_df, kyiv_addon_df])\n",
    "kyiv_df = kyiv_df.reset_index(drop=True)\n",
    "print('Kyiv + Kyiv oblast', kyiv_df.shape[0] == num_Kyiv)\n",
    "\n",
    "# Lviv have 130 need 124\n",
    "lviv_df = donates_all_after[donates_all_after['city']=='Lviv'].sample(n=num_Lviv, random_state=1).copy() # 124\n",
    "lviv_df = lviv_df.reset_index(drop=True)\n",
    "print('Lviv', lviv_df.shape[0] == num_Lviv)\n",
    "\n",
    "# Mykolaiv have 22 need 40 \n",
    "mykolaiv_after_df = donates_all_after[donates_all_after['city']=='Mykolaiv'].copy() # 22\n",
    "mykolaiv_addon_df = donates_all_end[donates_all_end['city'] != 'Ukraine'].sample(n=num_Mykolaiv-22, random_state=1).copy() \n",
    "mykolaiv_df =  pd.concat([mykolaiv_after_df, mykolaiv_addon_df])\n",
    "mykolaiv_df = mykolaiv_df.reset_index(drop=True)\n",
    "print('Mykolaiv', mykolaiv_df.shape[0] == num_Mykolaiv)\n",
    "\n",
    "# Poltava have 33 need 42\n",
    "poltava_after_df = donates_all_after[donates_all_after['city']=='Poltava'].copy() # 33\n",
    "poltava_addon_df = donates_all_end[donates_all_end['city'] != 'Ukraine'].sample(n=num_Poltava-33, random_state=1).copy() \n",
    "poltava_df =  pd.concat([poltava_after_df, poltava_addon_df])\n",
    "poltava_df = poltava_df.reset_index(drop=True)\n",
    "print('Poltava', poltava_df.shape[0] == num_Poltava)\n",
    "\n",
    "# Sumy have 9 need 38\n",
    "sumy_after_df = donates_all_after[donates_all_after['city']=='Sumy'].copy() # 9\n",
    "sumy_addon_df = donates_all_end[donates_all_end['city'] != 'Ukraine'].sample(n=num_Sumy-9, random_state=1).copy() \n",
    "sumy_df =  pd.concat([sumy_after_df, sumy_addon_df])\n",
    "sumy_df = sumy_df.reset_index(drop=True)\n",
    "print('Sumy', sumy_df.shape[0] == num_Sumy)\n",
    "\n",
    "# Zaporizhzhia have 9 need 19\n",
    "zaporizhzhia_after_df = donates_all_after[donates_all_after['city']=='Zaporizhzhia'].copy() # 9\n",
    "zaporizhzhia_addon_df = donates_all_end[donates_all_end['city'] != 'Ukraine'].sample(n=num_Zaporizhzhia-9, random_state=1).copy() \n",
    "zaporizhzhia_df =  pd.concat([zaporizhzhia_after_df, zaporizhzhia_addon_df])\n",
    "zaporizhzhia_df = zaporizhzhia_df.reset_index(drop=True)\n",
    "print('Zaporizhzhia', zaporizhzhia_df.shape[0] == num_Zaporizhzhia)\n",
    "\n",
    "# Ukraine have 360 need 228\n",
    "ukraine_df = donates_all_after[donates_all_after['city']=='Ukraine'].sample(n=num_Ukraine, random_state=1).copy() # 228\n",
    "ukraine_df = ukraine_df.reset_index(drop=True)\n",
    "print('Ukraine', ukraine_df.shape[0] == num_Ukraine)"
   ]
  },
  {
   "cell_type": "code",
   "execution_count": 51,
   "id": "3f604f62",
   "metadata": {},
   "outputs": [
    {
     "data": {
      "text/plain": [
       "(2678, 31)"
      ]
     },
     "execution_count": 51,
     "metadata": {},
     "output_type": "execute_result"
    }
   ],
   "source": [
    "existing_regions = [donates_all_end, dnipro_df, kharkiv_df, kyiv_df, lviv_df, mykolaiv_df, poltava_df, \n",
    "                    sumy_df, zaporizhzhia_df, ukraine_df]\n",
    "final_part1_df = pd.concat(existing_regions)\n",
    "final_part1_df = final_part1_df.reset_index(drop=True)\n",
    "final_part1_df.shape"
   ]
  },
  {
   "cell_type": "markdown",
   "id": "d6fef94f",
   "metadata": {},
   "source": [
    "### Define number of post for other Ukrainian regions by Population (2021 estimate)\n",
    "\n",
    "https://en.wikipedia.org/wiki/Demographics_of_Ukraine"
   ]
  },
  {
   "cell_type": "code",
   "execution_count": 52,
   "id": "994e152a",
   "metadata": {},
   "outputs": [],
   "source": [
    "# Name of Oblast --- Population as of Dec 2021.  For all Ukraine\t41,208,106\n",
    "\n",
    "population_by_region = {\n",
    "    'Donetsk Oblast': 4062839,\n",
    "    'Dnipropetrovsk Oblast': 3100320,\n",
    "    'Kyiv Kyiv City': 2952577,\n",
    "    'Kharkiv Oblast': 2602207,\n",
    "    'Lviv Oblast': 2480137,\n",
    "    'Odessa Oblast': 2352648,\n",
    "    'Luhansk Oblast': 2104531,\n",
    "    'Kyiv Oblast': 1795099,\n",
    "    'Zaporizhzhia Oblast': 1640876,\n",
    "    'Vinnytsia Oblast': 1511574,\n",
    "    'Poltava Oblast': 1354444,\n",
    "    'Ivano-Frankivsk Oblast': 1352973,\n",
    "    'Zakarpattia Oblast': 1245491,\n",
    "    'Khmelnytskyi Oblast': 1230507,\n",
    "    'Zhytomyr Oblast': 1180638,\n",
    "    'Cherkasy Oblast': 1162439,\n",
    "    'Rivne Oblast': 1142599,\n",
    "    'Mykolaiv Oblast': 1093492,\n",
    "    'Sumy Oblast': 1037237,\n",
    "    'Ternopil Oblast': 1022625,\n",
    "    'Volyn Oblast': 1022107,\n",
    "    'Kherson Oblast': 1002923,\n",
    "    'Chernihiv Oblast': 961054,\n",
    "    'Kirovohrad Oblast': 905715,\n",
    "    'Chernivtsi Oblast': 891054,\n",
    "}"
   ]
  },
  {
   "cell_type": "code",
   "execution_count": 54,
   "id": "e27dfe39",
   "metadata": {},
   "outputs": [
    {
     "data": {
      "text/plain": [
       "9293.096428571429"
      ]
     },
     "execution_count": 54,
     "metadata": {},
     "output_type": "execute_result"
    }
   ],
   "source": [
    "median_population_by_num_of_posts = statistics.median_grouped([\n",
    "    population_by_region['Kharkiv Oblast']/len(final_part1_df[final_part1_df['city']=='Kharkiv']),\n",
    "    population_by_region['Lviv Oblast']/len(final_part1_df[final_part1_df['city']=='Lviv']),\n",
    "    population_by_region['Poltava Oblast']/len(final_part1_df[final_part1_df['city']=='Poltava']),\n",
    "    population_by_region['Dnipropetrovsk Oblast']/len(final_part1_df[final_part1_df['city']=='Dnipropetrovsk']),\n",
    "    population_by_region['Sumy Oblast']/len(final_part1_df[final_part1_df['city']=='Sumy']),\n",
    "    population_by_region['Zaporizhzhia Oblast']/len(final_part1_df[final_part1_df['city']=='Zaporizhzhia']),\n",
    "    population_by_region['Mykolaiv Oblast']/len(final_part1_df[final_part1_df['city']=='Mykolaiv']),\n",
    "    (population_by_region['Kyiv Oblast'] + population_by_region['Kyiv Kyiv City'])/len(final_part1_df[final_part1_df['city']=='Kyiv'])\n",
    "])\n",
    "median_population_by_num_of_posts"
   ]
  },
  {
   "cell_type": "code",
   "execution_count": 62,
   "id": "7c09d3a3",
   "metadata": {},
   "outputs": [
    {
     "name": "stdout",
     "output_type": "stream",
     "text": [
      "odessa_sample = 253\n",
      "chernihiv_sample = 103\n",
      "kropyvnytski_sample = 97\n",
      "vinnytsia_sample = 163\n",
      "volyn_sample = 110\n",
      "zhytomyr_sample = 127\n",
      "khmelnytskyi_sample = 132\n",
      "cherkasy_sample = 125\n",
      "ternopil_sample = 110\n",
      "chernivtsi_sample = 96\n",
      "zakarpattia_sample = 134\n",
      "ivano_frankivsk_sample = 146\n",
      "rivne_sample = 123\n",
      "kherson_sample = 27\n",
      "donetsk_sample = 66\n",
      "luhansk_sample = 34\n"
     ]
    }
   ],
   "source": [
    "odessa_sample = int(round(population_by_region['Odessa Oblast']/median_population_by_num_of_posts, 0))\n",
    "print('odessa_sample =', odessa_sample)\n",
    "chernihiv_sample = int(round(population_by_region['Chernihiv Oblast']/median_population_by_num_of_posts, 0))\n",
    "print('chernihiv_sample =', chernihiv_sample)\n",
    "kropyvnytski_sample = int(round(population_by_region['Kirovohrad Oblast']/median_population_by_num_of_posts, 0))\n",
    "print('kropyvnytski_sample =', kropyvnytski_sample)\n",
    "vinnytsia_sample = int(round(population_by_region['Vinnytsia Oblast']/median_population_by_num_of_posts, 0))\n",
    "print('vinnytsia_sample =', vinnytsia_sample)\n",
    "volyn_sample = int(round(population_by_region['Volyn Oblast']/median_population_by_num_of_posts, 0))\n",
    "print('volyn_sample =', volyn_sample)\n",
    "zhytomyr_sample = int(round(population_by_region['Zhytomyr Oblast']/median_population_by_num_of_posts, 0))\n",
    "print('zhytomyr_sample =', zhytomyr_sample)\n",
    "khmelnytskyi_sample = int(round(population_by_region['Khmelnytskyi Oblast']/median_population_by_num_of_posts, 0))\n",
    "print('khmelnytskyi_sample =', khmelnytskyi_sample)\n",
    "cherkasy_sample = int(round(population_by_region['Cherkasy Oblast']/median_population_by_num_of_posts, 0))\n",
    "print('cherkasy_sample =', cherkasy_sample)\n",
    "ternopil_sample = int(round(population_by_region['Ternopil Oblast']/median_population_by_num_of_posts, 0))\n",
    "print('ternopil_sample =', ternopil_sample)\n",
    "chernivtsi_sample = int(round(population_by_region['Chernivtsi Oblast']/median_population_by_num_of_posts, 0))\n",
    "print('chernivtsi_sample =', chernivtsi_sample)\n",
    "zakarpattia_sample = int(round(population_by_region['Zakarpattia Oblast']/median_population_by_num_of_posts, 0))\n",
    "print('zakarpattia_sample =', zakarpattia_sample)\n",
    "ivano_frankivsk_sample = int(round(population_by_region['Ivano-Frankivsk Oblast']/median_population_by_num_of_posts, 0))\n",
    "print('ivano_frankivsk_sample =', ivano_frankivsk_sample)\n",
    "rivne_sample = int(round(population_by_region['Rivne Oblast']/median_population_by_num_of_posts, 0))\n",
    "print('rivne_sample =', rivne_sample)\n",
    "\n",
    "# use 0.25% and 0.15 of partially occupied regions\n",
    "kherson_sample = int(round((population_by_region['Kherson Oblast']/median_population_by_num_of_posts)*0.25, 0))\n",
    "print('kherson_sample =', kherson_sample)\n",
    "donetsk_sample = int(round((population_by_region['Donetsk Oblast']/median_population_by_num_of_posts)*0.15, 0))\n",
    "print('donetsk_sample =', donetsk_sample)\n",
    "luhansk_sample = int(round((population_by_region['Luhansk Oblast']/median_population_by_num_of_posts)*0.15, 0))\n",
    "print('luhansk_sample =', luhansk_sample)\n",
    "\n",
    "# We currently not included possible donations from citizens of Crimea"
   ]
  },
  {
   "cell_type": "markdown",
   "id": "5ef39e5f",
   "metadata": {},
   "source": [
    "### Add data for empty regions by randomly selecting rows\n",
    "\n",
    "This is not step necessary when data collected for this regions"
   ]
  },
  {
   "cell_type": "code",
   "execution_count": 63,
   "id": "44435595",
   "metadata": {},
   "outputs": [],
   "source": [
    "odessa_df = final_part1_df[final_part1_df['city'] !='Ukraine'].sample(n=odessa_sample, random_state=1).copy()\n",
    "chernihiv_df = final_part1_df[final_part1_df['city'] !='Ukraine'].sample(n=chernihiv_sample, random_state=1).copy()\n",
    "kropyvnytskyi_df = final_part1_df[final_part1_df['city'] !='Ukraine'].sample(n=kropyvnytski_sample, random_state=1).copy()\n",
    "vinnytsia_df = final_part1_df[final_part1_df['city'] !='Ukraine'].sample(n=vinnytsia_sample, random_state=1).copy()\n",
    "volyn_df = final_part1_df[final_part1_df['city'] !='Ukraine'].sample(n=volyn_sample, random_state=1).copy()\n",
    "zhytomyr_df = final_part1_df[final_part1_df['city'] !='Ukraine'].sample(n=zhytomyr_sample, random_state=1).copy()\n",
    "rivne_df = final_part1_df[final_part1_df['city'] !='Ukraine'].sample(n=rivne_sample, random_state=1).copy()\n",
    "khmelnytskyi_df = final_part1_df[final_part1_df['city'] !='Ukraine'].sample(n=khmelnytskyi_sample, random_state=1).copy()\n",
    "cherkasy_df = final_part1_df[final_part1_df['city'] !='Ukraine'].sample(n=cherkasy_sample, random_state=1).copy()\n",
    "ternopil_df = final_part1_df[final_part1_df['city'] !='Ukraine'].sample(n=ternopil_sample, random_state=1).copy()\n",
    "chernivtsi_df = final_part1_df[final_part1_df['city'] !='Ukraine'].sample(n=chernivtsi_sample, random_state=1).copy()\n",
    "zakarpattia_df = final_part1_df[final_part1_df['city'] !='Ukraine'].sample(n=zakarpattia_sample, random_state=1).copy()\n",
    "ivano_frankivsk_df = final_part1_df[final_part1_df['city'] !='Ukraine'].sample(n=ivano_frankivsk_sample, random_state=1).copy()\n",
    "kherson_df = final_part1_df[final_part1_df['city'] !='Ukraine'].sample(n=kherson_sample, random_state=1).copy()\n",
    "donetsk_df = final_part1_df[final_part1_df['city'] !='Ukraine'].sample(n=donetsk_sample, random_state=1).copy()\n",
    "luhansk_df = final_part1_df[final_part1_df['city'] !='Ukraine'].sample(n=luhansk_sample, random_state=1).copy()"
   ]
  },
  {
   "cell_type": "code",
   "execution_count": 64,
   "id": "c00edac1",
   "metadata": {},
   "outputs": [
    {
     "data": {
      "text/plain": [
       "(4524, 31)"
      ]
     },
     "execution_count": 64,
     "metadata": {},
     "output_type": "execute_result"
    }
   ],
   "source": [
    "data_list = [final_part1_df, odessa_df, chernihiv_df, kropyvnytskyi_df, vinnytsia_df, volyn_df, zhytomyr_df, rivne_df,\n",
    "               khmelnytskyi_df, cherkasy_df, ternopil_df, chernivtsi_df, zakarpattia_df, ivano_frankivsk_df,\n",
    "               kherson_df, donetsk_df, luhansk_df]\n",
    "final_Ukraine_df = pd.concat(data_list)\n",
    "final_Ukraine_df.shape"
   ]
  },
  {
   "cell_type": "code",
   "execution_count": 65,
   "id": "25414a95",
   "metadata": {},
   "outputs": [],
   "source": [
    "final_Ukraine_df.to_csv('final_Ukraine_df.csv')"
   ]
  },
  {
   "cell_type": "code",
   "execution_count": 66,
   "id": "f4e27bc6",
   "metadata": {},
   "outputs": [
    {
     "name": "stdout",
     "output_type": "stream",
     "text": [
      "['channel_id', 'message_id', 'city', 'channel_name', 'date', 'message_text', 'donate', 'views', 'forwards', 'tmp_keyword', 'tmp_possible_donates', 'ремонт', 'генератори і акумулятори', 'авто', \"комп'ютерна та відео техніка\", 'тепловізори, снайпінг, ПНБ', 'гуманітарна допомога', 'оптика', 'запчастини', \"зв'язок\", 'амуніція', 'медицина', 'броня', 'засоби спостереження', 'БПЛА', 'зброя', 'мінна безпека', 'загальні витрати', 'DateTime', 'products_cost', 'final_donate']\n"
     ]
    }
   ],
   "source": [
    "print(list(final_Ukraine_df.columns))"
   ]
  },
  {
   "cell_type": "code",
   "execution_count": 68,
   "id": "b7e92bb8",
   "metadata": {},
   "outputs": [
    {
     "data": {
      "text/plain": [
       "287716800.66706777"
      ]
     },
     "execution_count": 68,
     "metadata": {},
     "output_type": "execute_result"
    }
   ],
   "source": [
    "final_Ukraine_df['final_donate'].sum() # in dollars"
   ]
  },
  {
   "cell_type": "code",
   "execution_count": 69,
   "id": "225a909b",
   "metadata": {},
   "outputs": [],
   "source": [
    "import matplotlib.pyplot as plt\n",
    "import seaborn as sns"
   ]
  },
  {
   "cell_type": "code",
   "execution_count": 70,
   "id": "9cadf59d",
   "metadata": {},
   "outputs": [],
   "source": [
    "final_Ukraine_df = final_Ukraine_df.set_index('DateTime')"
   ]
  },
  {
   "cell_type": "code",
   "execution_count": 73,
   "id": "267ee82c",
   "metadata": {},
   "outputs": [
    {
     "data": {
      "image/png": "[encoded data removed]",
      "text/plain": [
       "<Figure size 2000x500 with 1 Axes>"
      ]
     },
     "metadata": {},
     "output_type": "display_data"
    }
   ],
   "source": [
    "fig, axes = plt.subplots(1, 1, figsize=(20, 5))\n",
    "fig.suptitle(\"Number of donations collected through Telegram channels in Ukraine\", fontsize=24)\n",
    "\n",
    "axes.plot(final_Ukraine_df['final_donate'], marker='.', alpha=0.5, linestyle='None', color='#2ca02c')\n",
    "axes.set_ylabel('donate, $')\n",
    "fig.subplots_adjust(top=0.88)\n",
    "plt.show()"
   ]
  },
  {
   "cell_type": "code",
   "execution_count": 74,
   "id": "74cf53d8",
   "metadata": {},
   "outputs": [],
   "source": [
    "final_Ukraine_df = final_Ukraine_df.reset_index()"
   ]
  },
  {
   "cell_type": "code",
   "execution_count": 77,
   "id": "6e1cc445",
   "metadata": {},
   "outputs": [],
   "source": [
    "donate_by_week_df = final_Ukraine_df.groupby([pd.Grouper(key='DateTime', freq='W')])['final_donate'].sum().copy()"
   ]
  },
  {
   "cell_type": "code",
   "execution_count": 78,
   "id": "8506d30b",
   "metadata": {},
   "outputs": [
    {
     "data": {
      "text/html": [
       "<div>\n",
       "<style scoped>\n",
       "    .dataframe tbody tr th:only-of-type {\n",
       "        vertical-align: middle;\n",
       "    }\n",
       "\n",
       "    .dataframe tbody tr th {\n",
       "        vertical-align: top;\n",
       "    }\n",
       "\n",
       "    .dataframe thead th {\n",
       "        text-align: right;\n",
       "    }\n",
       "</style>\n",
       "<table border=\"1\" class=\"dataframe\">\n",
       "  <thead>\n",
       "    <tr style=\"text-align: right;\">\n",
       "      <th></th>\n",
       "      <th>DateTime</th>\n",
       "      <th>final_donate</th>\n",
       "    </tr>\n",
       "  </thead>\n",
       "  <tbody>\n",
       "    <tr>\n",
       "      <th>0</th>\n",
       "      <td>2022-02-27</td>\n",
       "      <td>2.342899e+05</td>\n",
       "    </tr>\n",
       "    <tr>\n",
       "      <th>1</th>\n",
       "      <td>2022-03-06</td>\n",
       "      <td>4.058278e+06</td>\n",
       "    </tr>\n",
       "  </tbody>\n",
       "</table>\n",
       "</div>"
      ],
      "text/plain": [
       "    DateTime  final_donate\n",
       "0 2022-02-27  2.342899e+05\n",
       "1 2022-03-06  4.058278e+06"
      ]
     },
     "execution_count": 78,
     "metadata": {},
     "output_type": "execute_result"
    }
   ],
   "source": [
    "donate_by_week_df = donate_by_week_df.reset_index()\n",
    "donate_by_week_df.head(2)"
   ]
  },
  {
   "cell_type": "code",
   "execution_count": 80,
   "id": "bc050799",
   "metadata": {},
   "outputs": [],
   "source": [
    "donate_by_week_df['DateTime']= pd.to_datetime(donate_by_week_df['DateTime'])"
   ]
  },
  {
   "cell_type": "code",
   "execution_count": 81,
   "id": "e5541b38",
   "metadata": {},
   "outputs": [
    {
     "data": {
      "text/plain": [
       "pandas._libs.tslibs.timestamps.Timestamp"
      ]
     },
     "execution_count": 81,
     "metadata": {},
     "output_type": "execute_result"
    }
   ],
   "source": [
    "type(donate_by_week_df.iloc[0]['DateTime'])"
   ]
  },
  {
   "cell_type": "code",
   "execution_count": 83,
   "id": "94fb044e",
   "metadata": {},
   "outputs": [
    {
     "data": {
      "text/html": [
       "<div>\n",
       "<style scoped>\n",
       "    .dataframe tbody tr th:only-of-type {\n",
       "        vertical-align: middle;\n",
       "    }\n",
       "\n",
       "    .dataframe tbody tr th {\n",
       "        vertical-align: top;\n",
       "    }\n",
       "\n",
       "    .dataframe thead th {\n",
       "        text-align: right;\n",
       "    }\n",
       "</style>\n",
       "<table border=\"1\" class=\"dataframe\">\n",
       "  <thead>\n",
       "    <tr style=\"text-align: right;\">\n",
       "      <th></th>\n",
       "      <th>final_donate</th>\n",
       "    </tr>\n",
       "    <tr>\n",
       "      <th>DateTime</th>\n",
       "      <th></th>\n",
       "    </tr>\n",
       "  </thead>\n",
       "  <tbody>\n",
       "    <tr>\n",
       "      <th>2022-02-27</th>\n",
       "      <td>2.342899e+05</td>\n",
       "    </tr>\n",
       "    <tr>\n",
       "      <th>2022-03-06</th>\n",
       "      <td>4.058278e+06</td>\n",
       "    </tr>\n",
       "  </tbody>\n",
       "</table>\n",
       "</div>"
      ],
      "text/plain": [
       "            final_donate\n",
       "DateTime                \n",
       "2022-02-27  2.342899e+05\n",
       "2022-03-06  4.058278e+06"
      ]
     },
     "execution_count": 83,
     "metadata": {},
     "output_type": "execute_result"
    }
   ],
   "source": [
    "donate_by_week_df = donate_by_week_df.set_index('DateTime')\n",
    "donate_by_week_df.head(2)"
   ]
  },
  {
   "cell_type": "code",
   "execution_count": 86,
   "id": "15d90030",
   "metadata": {},
   "outputs": [
    {
     "data": {
      "image/png": "[encoded data removed]",
      "text/plain": [
       "<Figure size 2000x500 with 1 Axes>"
      ]
     },
     "metadata": {},
     "output_type": "display_data"
    }
   ],
   "source": [
    "fig, axes = plt.subplots(1, 1, figsize=(20, 5))\n",
    "fig.suptitle(\"Number of donations collected through Telegram channels in Ukraine by week\", fontsize=24)\n",
    "\n",
    "axes.plot(donate_by_week_df, marker='.', alpha=0.5, color='#2ca02c') #  linestyle='None',\n",
    "axes.set_ylabel('donate, $')\n",
    "fig.subplots_adjust(top=0.88)\n",
    "plt.show()\n"
   ]
  },
  {
   "cell_type": "code",
   "execution_count": null,
   "id": "e2a0e13d",
   "metadata": {},
   "outputs": [],
   "source": []
  }
 ],
 "metadata": {
  "kernelspec": {
   "display_name": "Python 3 (ipykernel)",
   "language": "python",
   "name": "python3"
  },
  "language_info": {
   "codemirror_mode": {
    "name": "ipython",
    "version": 3
   },
   "file_extension": ".py",
   "mimetype": "text/x-python",
   "name": "python",
   "nbconvert_exporter": "python",
   "pygments_lexer": "ipython3",
   "version": "3.8.15"
  }
 },
 "nbformat": 4,
 "nbformat_minor": 5
}
